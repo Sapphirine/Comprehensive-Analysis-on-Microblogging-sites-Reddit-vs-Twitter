{
 "cells": [
  {
   "cell_type": "markdown",
   "id": "4ce7a1a9",
   "metadata": {},
   "source": [
    "# Import libraries"
   ]
  },
  {
   "cell_type": "code",
   "execution_count": 66,
   "id": "985668d7",
   "metadata": {},
   "outputs": [
    {
     "name": "stderr",
     "output_type": "stream",
     "text": [
      "/Users/tejasrikurapati/opt/anaconda3/lib/python3.8/site-packages/ipykernel/ipkernel.py:287: DeprecationWarning:\n",
      "\n",
      "`should_run_async` will not call `transform_cell` automatically in the future. Please pass the result to `transformed_cell` argument and any exception that happen during thetransform in `preprocessing_exc_tuple` in IPython 7.17 and above.\n",
      "\n"
     ]
    }
   ],
   "source": [
    "import os\n",
    "import pandas as pd\n",
    "import numpy as np\n",
    "from plotly.offline import download_plotlyjs, init_notebook_mode, plot, iplot\n",
    "import plotly as py\n",
    "import plotly.graph_objs as go\n",
    "import gensim\n",
    "from gensim import corpora, models, similarities\n",
    "import logging\n",
    "import tempfile\n",
    "from nltk.corpus import stopwords\n",
    "from string import punctuation\n",
    "from collections import OrderedDict\n",
    "import seaborn as sns\n",
    "import pyLDAvis\n",
    "import pyLDAvis.gensim_models as gensimvis\n",
    "pyLDAvis.enable_notebook()\n",
    "import matplotlib.pyplot as plt\n",
    "%matplotlib inline"
   ]
  },
  {
   "cell_type": "markdown",
   "id": "da01b16f",
   "metadata": {},
   "source": [
    "# Importing data"
   ]
  },
  {
   "cell_type": "code",
   "execution_count": 108,
   "id": "3035042c",
   "metadata": {},
   "outputs": [
    {
     "name": "stderr",
     "output_type": "stream",
     "text": [
      "/Users/tejasrikurapati/opt/anaconda3/lib/python3.8/site-packages/ipykernel/ipkernel.py:287: DeprecationWarning:\n",
      "\n",
      "`should_run_async` will not call `transform_cell` automatically in the future. Please pass the result to `transformed_cell` argument and any exception that happen during thetransform in `preprocessing_exc_tuple` in IPython 7.17 and above.\n",
      "\n"
     ]
    }
   ],
   "source": [
    "reddit = pd.DataFrame(reddit)\n",
    "reddit['data'] = reddit\n",
    "reddit\n",
    "reddit = reddit.drop([0],axis=1)"
   ]
  },
  {
   "cell_type": "code",
   "execution_count": 113,
   "id": "2208e5d2",
   "metadata": {},
   "outputs": [
    {
     "name": "stderr",
     "output_type": "stream",
     "text": [
      "/Users/tejasrikurapati/opt/anaconda3/lib/python3.8/site-packages/ipykernel/ipkernel.py:287: DeprecationWarning:\n",
      "\n",
      "`should_run_async` will not call `transform_cell` automatically in the future. Please pass the result to `transformed_cell` argument and any exception that happen during thetransform in `preprocessing_exc_tuple` in IPython 7.17 and above.\n",
      "\n"
     ]
    },
    {
     "data": {
      "text/html": [
       "<div>\n",
       "<style scoped>\n",
       "    .dataframe tbody tr th:only-of-type {\n",
       "        vertical-align: middle;\n",
       "    }\n",
       "\n",
       "    .dataframe tbody tr th {\n",
       "        vertical-align: top;\n",
       "    }\n",
       "\n",
       "    .dataframe thead th {\n",
       "        text-align: right;\n",
       "    }\n",
       "</style>\n",
       "<table border=\"1\" class=\"dataframe\">\n",
       "  <thead>\n",
       "    <tr style=\"text-align: right;\">\n",
       "      <th></th>\n",
       "      <th>data</th>\n",
       "    </tr>\n",
       "  </thead>\n",
       "  <tbody>\n",
       "    <tr>\n",
       "      <th>0</th>\n",
       "      <td>This is Ali Larsen aka Gross Gore. One of the ...</td>\n",
       "    </tr>\n",
       "    <tr>\n",
       "      <th>1</th>\n",
       "      <td>My Father, Filmmaker Rob Cohen is a Rapist and...</td>\n",
       "    </tr>\n",
       "    <tr>\n",
       "      <th>2</th>\n",
       "      <td>Tara Reade on Rising // What we see here is a ...</td>\n",
       "    </tr>\n",
       "    <tr>\n",
       "      <th>3</th>\n",
       "      <td>Asia Argento, Who Accused Weinstein, Made a De...</td>\n",
       "    </tr>\n",
       "    <tr>\n",
       "      <th>4</th>\n",
       "      <td>DONT LET HER STORY BE SILENCED. We can not all...</td>\n",
       "    </tr>\n",
       "    <tr>\n",
       "      <th>...</th>\n",
       "      <td>...</td>\n",
       "    </tr>\n",
       "    <tr>\n",
       "      <th>369</th>\n",
       "      <td>The Woman I Was\\n\\n\\nLast week, my counselor r...</td>\n",
       "    </tr>\n",
       "    <tr>\n",
       "      <th>370</th>\n",
       "      <td>I made a throwaway account just to say this. N...</td>\n",
       "    </tr>\n",
       "    <tr>\n",
       "      <th>371</th>\n",
       "      <td>Years ago I told my therapist that I went to a...</td>\n",
       "    </tr>\n",
       "    <tr>\n",
       "      <th>372</th>\n",
       "      <td>Hey guys, I just wanted to let you know since ...</td>\n",
       "    </tr>\n",
       "    <tr>\n",
       "      <th>373</th>\n",
       "      <td>hi. i realized that sexual assult awareness mo...</td>\n",
       "    </tr>\n",
       "  </tbody>\n",
       "</table>\n",
       "<p>374 rows × 1 columns</p>\n",
       "</div>"
      ],
      "text/plain": [
       "                                                  data\n",
       "0    This is Ali Larsen aka Gross Gore. One of the ...\n",
       "1    My Father, Filmmaker Rob Cohen is a Rapist and...\n",
       "2    Tara Reade on Rising // What we see here is a ...\n",
       "3    Asia Argento, Who Accused Weinstein, Made a De...\n",
       "4    DONT LET HER STORY BE SILENCED. We can not all...\n",
       "..                                                 ...\n",
       "369  The Woman I Was\\n\\n\\nLast week, my counselor r...\n",
       "370  I made a throwaway account just to say this. N...\n",
       "371  Years ago I told my therapist that I went to a...\n",
       "372  Hey guys, I just wanted to let you know since ...\n",
       "373  hi. i realized that sexual assult awareness mo...\n",
       "\n",
       "[374 rows x 1 columns]"
      ]
     },
     "execution_count": 113,
     "metadata": {},
     "output_type": "execute_result"
    }
   ],
   "source": [
    "reddit"
   ]
  },
  {
   "cell_type": "code",
   "execution_count": 130,
   "id": "9c76d546",
   "metadata": {},
   "outputs": [
    {
     "name": "stderr",
     "output_type": "stream",
     "text": [
      "/Users/tejasrikurapati/opt/anaconda3/lib/python3.8/site-packages/ipykernel/ipkernel.py:287: DeprecationWarning:\n",
      "\n",
      "`should_run_async` will not call `transform_cell` automatically in the future. Please pass the result to `transformed_cell` argument and any exception that happen during thetransform in `preprocessing_exc_tuple` in IPython 7.17 and above.\n",
      "\n"
     ]
    }
   ],
   "source": [
    "reddit.to_csv('./reddit.csv')"
   ]
  },
  {
   "cell_type": "code",
   "execution_count": 114,
   "id": "906d71a5",
   "metadata": {},
   "outputs": [
    {
     "name": "stderr",
     "output_type": "stream",
     "text": [
      "/Users/tejasrikurapati/opt/anaconda3/lib/python3.8/site-packages/ipykernel/ipkernel.py:287: DeprecationWarning:\n",
      "\n",
      "`should_run_async` will not call `transform_cell` automatically in the future. Please pass the result to `transformed_cell` argument and any exception that happen during thetransform in `preprocessing_exc_tuple` in IPython 7.17 and above.\n",
      "\n"
     ]
    },
    {
     "data": {
      "text/plain": [
       "['This is Ali Larsen aka Gross Gore. One of the many groomers and sexual harassers protected by Twitch.tv. Here to ask for help.',\n",
       " 'My Father, Filmmaker Rob Cohen is a Rapist and Child Molester',\n",
       " 'Tara Reade on Rising // What we see here is a systematic failure of the justice system to investigate and blatant corruption from Time is Up CW RAPE',\n",
       " 'Asia Argento, Who Accused Weinstein, Made a Deal With Her Own Accuser',\n",
       " 'DONT LET HER STORY BE SILENCED. We can not allow another rapist to lead this country.',\n",
       " 'My husband insulted me without even realizing it',\n",
       " 'Harvey Weinstein Sentenced to 23 Years in Prison on Rape Charges',\n",
       " '#Metoo',\n",
       " 'Harvey Weinstein Is Found Guilty of Rape',\n",
       " 'I finally cried about it. It’s been almost 3 months and I was reading a poetry book, came across this poem and broke down and cried about it for the first time.']"
      ]
     },
     "execution_count": 114,
     "metadata": {},
     "output_type": "execute_result"
    }
   ],
   "source": [
    "#converting dataset to list\n",
    "corpus=[]\n",
    "a=[]\n",
    "for i in range(len(reddit['data'])):\n",
    "        a=reddit['data'][i]\n",
    "        corpus.append(a)\n",
    "        \n",
    "corpus[0:10]"
   ]
  },
  {
   "cell_type": "code",
   "execution_count": 115,
   "id": "4b4fbdb3",
   "metadata": {},
   "outputs": [
    {
     "name": "stdout",
     "output_type": "stream",
     "text": [
      "Folder \"/var/folders/yd/dwdfnncj7g10ds7bnpksx5bc0000gn/T\" will be used to save temporary dictionary and corpus.\n"
     ]
    },
    {
     "name": "stderr",
     "output_type": "stream",
     "text": [
      "/Users/tejasrikurapati/opt/anaconda3/lib/python3.8/site-packages/ipykernel/ipkernel.py:287: DeprecationWarning:\n",
      "\n",
      "`should_run_async` will not call `transform_cell` automatically in the future. Please pass the result to `transformed_cell` argument and any exception that happen during thetransform in `preprocessing_exc_tuple` in IPython 7.17 and above.\n",
      "\n"
     ]
    }
   ],
   "source": [
    "TEMP_FOLDER = tempfile.gettempdir()\n",
    "print('Folder \"{}\" will be used to save temporary dictionary and corpus.'.format(TEMP_FOLDER))\n",
    "\n",
    "logging.basicConfig(format='%(asctime)s : %(levelname)s : %(message)s', level=logging.INFO)"
   ]
  },
  {
   "cell_type": "markdown",
   "id": "5a884845",
   "metadata": {},
   "source": [
    "# Data cleaning \n",
    "\n",
    "Converting upper case to lower case. Removing stop words."
   ]
  },
  {
   "cell_type": "code",
   "execution_count": 116,
   "id": "e6151d4f",
   "metadata": {},
   "outputs": [
    {
     "name": "stderr",
     "output_type": "stream",
     "text": [
      "/Users/tejasrikurapati/opt/anaconda3/lib/python3.8/site-packages/ipykernel/ipkernel.py:287: DeprecationWarning:\n",
      "\n",
      "`should_run_async` will not call `transform_cell` automatically in the future. Please pass the result to `transformed_cell` argument and any exception that happen during thetransform in `preprocessing_exc_tuple` in IPython 7.17 and above.\n",
      "\n",
      "2021-12-17 11:27:02,322 : INFO : adding document #0 to Dictionary(0 unique tokens: [])\n",
      "2021-12-17 11:27:02,356 : INFO : built Dictionary(8435 unique tokens: ['aka', 'ali', 'ask', 'gore.', 'groomers']...) from 374 documents (total 29140 corpus positions)\n",
      "2021-12-17 11:27:02,357 : INFO : Dictionary lifecycle event {'msg': \"built Dictionary(8435 unique tokens: ['aka', 'ali', 'ask', 'gore.', 'groomers']...) from 374 documents (total 29140 corpus positions)\", 'datetime': '2021-12-17T11:27:02.357253', 'gensim': '4.1.2', 'python': '3.8.8 (default, Apr 13 2021, 12:59:45) \\n[Clang 10.0.0 ]', 'platform': 'macOS-10.16-x86_64-i386-64bit', 'event': 'created'}\n",
      "2021-12-17 11:27:02,358 : INFO : Dictionary lifecycle event {'fname_or_handle': '/var/folders/yd/dwdfnncj7g10ds7bnpksx5bc0000gn/T/elon.dict', 'separately': 'None', 'sep_limit': 10485760, 'ignore': frozenset(), 'datetime': '2021-12-17T11:27:02.358067', 'gensim': '4.1.2', 'python': '3.8.8 (default, Apr 13 2021, 12:59:45) \\n[Clang 10.0.0 ]', 'platform': 'macOS-10.16-x86_64-i386-64bit', 'event': 'saving'}\n",
      "2021-12-17 11:27:02,362 : INFO : saved /var/folders/yd/dwdfnncj7g10ds7bnpksx5bc0000gn/T/elon.dict\n"
     ]
    }
   ],
   "source": [
    "list1 = ['f','k','r','ist','gmo','said','even','la','el','est','qu','gt','en','se','rt','via','en','l','que','n','un','las','es','con','por','para','et','al','el','si','a','q','w','e','r','t','y','i','o','p','s','g','h','j','k','l','z','x','c','v','b','n','m',':','/','(',')','?','|',\";\",\"]\",\"[\",\".\",'@',\"&\",\"-\",\"!\"]\n",
    "stoplist = stopwords.words('english') + list1\n",
    "\n",
    "texts = [[word for word in str(document).lower().split() if word not in stoplist] for document in corpus]\n",
    "\n",
    "dictionary = corpora.Dictionary(texts)\n",
    "dictionary.save(os.path.join(TEMP_FOLDER, 'data.dict'))  # store the dictionary, for future reference"
   ]
  },
  {
   "cell_type": "code",
   "execution_count": 118,
   "id": "63a02d34",
   "metadata": {},
   "outputs": [
    {
     "name": "stderr",
     "output_type": "stream",
     "text": [
      "/Users/tejasrikurapati/opt/anaconda3/lib/python3.8/site-packages/ipykernel/ipkernel.py:287: DeprecationWarning:\n",
      "\n",
      "`should_run_async` will not call `transform_cell` automatically in the future. Please pass the result to `transformed_cell` argument and any exception that happen during thetransform in `preprocessing_exc_tuple` in IPython 7.17 and above.\n",
      "\n",
      "2021-12-17 11:27:07,036 : INFO : storing corpus in Matrix Market format to /var/folders/yd/dwdfnncj7g10ds7bnpksx5bc0000gn/T/elon.mm\n",
      "2021-12-17 11:27:07,037 : INFO : saving sparse matrix to /var/folders/yd/dwdfnncj7g10ds7bnpksx5bc0000gn/T/elon.mm\n",
      "2021-12-17 11:27:07,038 : INFO : PROGRESS: saving document #0\n",
      "2021-12-17 11:27:07,074 : INFO : saved 374x8435 matrix, density=0.731% (23048/3154690)\n",
      "2021-12-17 11:27:07,076 : INFO : saving MmCorpus index to /var/folders/yd/dwdfnncj7g10ds7bnpksx5bc0000gn/T/elon.mm.index\n"
     ]
    }
   ],
   "source": [
    "corpus = [dictionary.doc2bow(text) for text in texts]\n",
    "corpora.MmCorpus.serialize(os.path.join(TEMP_FOLDER, 'elon.mm'), corpus)  # store to disk, for later use"
   ]
  },
  {
   "cell_type": "markdown",
   "id": "4d600e93",
   "metadata": {},
   "source": [
    "# Implementing Co-occurrence matrix heatmap"
   ]
  },
  {
   "cell_type": "code",
   "execution_count": 119,
   "id": "9331cd4b",
   "metadata": {},
   "outputs": [
    {
     "name": "stderr",
     "output_type": "stream",
     "text": [
      "/Users/tejasrikurapati/opt/anaconda3/lib/python3.8/site-packages/ipykernel/ipkernel.py:287: DeprecationWarning:\n",
      "\n",
      "`should_run_async` will not call `transform_cell` automatically in the future. Please pass the result to `transformed_cell` argument and any exception that happen during thetransform in `preprocessing_exc_tuple` in IPython 7.17 and above.\n",
      "\n",
      "2021-12-17 11:27:21,901 : INFO : collecting document frequencies\n",
      "2021-12-17 11:27:21,901 : INFO : PROGRESS: processing document #0\n",
      "2021-12-17 11:27:21,925 : INFO : TfidfModel lifecycle event {'msg': 'calculated IDF weights for 374 documents and 8435 features (23048 matrix non-zeros)', 'datetime': '2021-12-17T11:27:21.925620', 'gensim': '4.1.2', 'python': '3.8.8 (default, Apr 13 2021, 12:59:45) \\n[Clang 10.0.0 ]', 'platform': 'macOS-10.16-x86_64-i386-64bit', 'event': 'initialize'}\n"
     ]
    }
   ],
   "source": [
    "tfidf = models.TfidfModel(corpus) # step 1 -- initialize a model"
   ]
  },
  {
   "cell_type": "code",
   "execution_count": 120,
   "id": "652822bf",
   "metadata": {},
   "outputs": [
    {
     "name": "stderr",
     "output_type": "stream",
     "text": [
      "/Users/tejasrikurapati/opt/anaconda3/lib/python3.8/site-packages/ipykernel/ipkernel.py:287: DeprecationWarning:\n",
      "\n",
      "`should_run_async` will not call `transform_cell` automatically in the future. Please pass the result to `transformed_cell` argument and any exception that happen during thetransform in `preprocessing_exc_tuple` in IPython 7.17 and above.\n",
      "\n"
     ]
    }
   ],
   "source": [
    "corpus_tfidf = tfidf[corpus]  # step 2 -- use the model to transform vectors"
   ]
  },
  {
   "cell_type": "code",
   "execution_count": 121,
   "id": "72e07c62",
   "metadata": {},
   "outputs": [
    {
     "name": "stderr",
     "output_type": "stream",
     "text": [
      "/Users/tejasrikurapati/opt/anaconda3/lib/python3.8/site-packages/ipykernel/ipkernel.py:287: DeprecationWarning:\n",
      "\n",
      "`should_run_async` will not call `transform_cell` automatically in the future. Please pass the result to `transformed_cell` argument and any exception that happen during thetransform in `preprocessing_exc_tuple` in IPython 7.17 and above.\n",
      "\n"
     ]
    }
   ],
   "source": [
    "total_topics = 5"
   ]
  },
  {
   "cell_type": "code",
   "execution_count": 123,
   "id": "2556b0a6",
   "metadata": {},
   "outputs": [
    {
     "name": "stderr",
     "output_type": "stream",
     "text": [
      "/Users/tejasrikurapati/opt/anaconda3/lib/python3.8/site-packages/ipykernel/ipkernel.py:287: DeprecationWarning:\n",
      "\n",
      "`should_run_async` will not call `transform_cell` automatically in the future. Please pass the result to `transformed_cell` argument and any exception that happen during thetransform in `preprocessing_exc_tuple` in IPython 7.17 and above.\n",
      "\n",
      "2021-12-17 11:27:25,422 : INFO : using symmetric alpha at 0.2\n",
      "2021-12-17 11:27:25,423 : INFO : using symmetric eta at 0.2\n",
      "2021-12-17 11:27:25,425 : INFO : using serial LDA version on this node\n",
      "2021-12-17 11:27:25,430 : INFO : running online (single-pass) LDA training, 5 topics, 1 passes over the supplied corpus of 374 documents, updating model once every 374 documents, evaluating perplexity every 374 documents, iterating 50x with a convergence threshold of 0.001000\n",
      "2021-12-17 11:27:25,431 : WARNING : too few updates, training might not converge; consider increasing the number of passes or iterations to improve accuracy\n",
      "2021-12-17 11:27:25,675 : INFO : -10.563 per-word bound, 1512.5 perplexity estimate based on a held-out corpus of 374 documents with 29140 words\n",
      "2021-12-17 11:27:25,676 : INFO : PROGRESS: pass 0, at document #374/374\n",
      "2021-12-17 11:27:25,864 : INFO : topic #0 (0.200): 0.006*\"would\" + 0.005*\"told\" + 0.005*\"get\" + 0.005*\"like\" + 0.005*\"people\" + 0.005*\"could\" + 0.005*\"know\" + 0.004*\"one\" + 0.004*\"feel\" + 0.004*\"me.\"\n",
      "2021-12-17 11:27:25,865 : INFO : topic #1 (0.200): 0.007*\"would\" + 0.007*\"know\" + 0.006*\"want\" + 0.006*\"told\" + 0.006*\"me.\" + 0.005*\"one\" + 0.005*\"really\" + 0.005*\"like\" + 0.004*\"get\" + 0.004*\"sexual\"\n",
      "2021-12-17 11:27:25,866 : INFO : topic #2 (0.200): 0.008*\"would\" + 0.006*\"told\" + 0.005*\"i'm\" + 0.005*\"like\" + 0.004*\"feel\" + 0.004*\"know\" + 0.004*\"years\" + 0.003*\"me.\" + 0.003*\"get\" + 0.003*\"could\"\n",
      "2021-12-17 11:27:25,867 : INFO : topic #3 (0.200): 0.006*\"would\" + 0.005*\"remember\" + 0.004*\"one\" + 0.004*\"me.\" + 0.004*\"sexual\" + 0.004*\"like\" + 0.004*\"feel\" + 0.004*\"years\" + 0.004*\"told\" + 0.004*\"know\"\n",
      "2021-12-17 11:27:25,868 : INFO : topic #4 (0.200): 0.008*\"like\" + 0.006*\"would\" + 0.006*\"know\" + 0.005*\"people\" + 0.005*\"told\" + 0.004*\"get\" + 0.004*\"years\" + 0.004*\"me.\" + 0.004*\"could\" + 0.004*\"never\"\n",
      "2021-12-17 11:27:25,869 : INFO : topic diff=1.841493, rho=1.000000\n",
      "2021-12-17 11:27:25,870 : INFO : LdaModel lifecycle event {'msg': 'trained LdaModel(num_terms=8435, num_topics=5, decay=0.5, chunksize=2000) in 0.44s', 'datetime': '2021-12-17T11:27:25.870014', 'gensim': '4.1.2', 'python': '3.8.8 (default, Apr 13 2021, 12:59:45) \\n[Clang 10.0.0 ]', 'platform': 'macOS-10.16-x86_64-i386-64bit', 'event': 'created'}\n"
     ]
    }
   ],
   "source": [
    "lda = models.LdaModel(corpus, id2word=dictionary, num_topics=total_topics)\n",
    "corpus_lda = lda[corpus_tfidf] # create a double wrapper over the original corpus: bow->tfidf->fold-in-lsi"
   ]
  },
  {
   "cell_type": "code",
   "execution_count": 124,
   "id": "84010d69",
   "metadata": {},
   "outputs": [
    {
     "name": "stderr",
     "output_type": "stream",
     "text": [
      "/Users/tejasrikurapati/opt/anaconda3/lib/python3.8/site-packages/ipykernel/ipkernel.py:287: DeprecationWarning:\n",
      "\n",
      "`should_run_async` will not call `transform_cell` automatically in the future. Please pass the result to `transformed_cell` argument and any exception that happen during thetransform in `preprocessing_exc_tuple` in IPython 7.17 and above.\n",
      "\n"
     ]
    },
    {
     "data": {
      "text/plain": [
       "[(0,\n",
       "  '0.006*\"would\" + 0.005*\"told\" + 0.005*\"get\" + 0.005*\"like\" + 0.005*\"people\" + 0.005*\"could\" + 0.005*\"know\" + 0.004*\"one\" + 0.004*\"feel\" + 0.004*\"me.\"'),\n",
       " (1,\n",
       "  '0.007*\"would\" + 0.007*\"know\" + 0.006*\"want\" + 0.006*\"told\" + 0.006*\"me.\" + 0.005*\"one\" + 0.005*\"really\" + 0.005*\"like\" + 0.004*\"get\" + 0.004*\"sexual\"'),\n",
       " (2,\n",
       "  '0.008*\"would\" + 0.006*\"told\" + 0.005*\"i\\'m\" + 0.005*\"like\" + 0.004*\"feel\" + 0.004*\"know\" + 0.004*\"years\" + 0.003*\"me.\" + 0.003*\"get\" + 0.003*\"could\"'),\n",
       " (3,\n",
       "  '0.006*\"would\" + 0.005*\"remember\" + 0.004*\"one\" + 0.004*\"me.\" + 0.004*\"sexual\" + 0.004*\"like\" + 0.004*\"feel\" + 0.004*\"years\" + 0.004*\"told\" + 0.004*\"know\"'),\n",
       " (4,\n",
       "  '0.008*\"like\" + 0.006*\"would\" + 0.006*\"know\" + 0.005*\"people\" + 0.005*\"told\" + 0.004*\"get\" + 0.004*\"years\" + 0.004*\"me.\" + 0.004*\"could\" + 0.004*\"never\"')]"
      ]
     },
     "execution_count": 124,
     "metadata": {},
     "output_type": "execute_result"
    }
   ],
   "source": [
    "lda.show_topics(total_topics,10)"
   ]
  },
  {
   "cell_type": "code",
   "execution_count": 125,
   "id": "2315fafc",
   "metadata": {},
   "outputs": [
    {
     "name": "stderr",
     "output_type": "stream",
     "text": [
      "/Users/tejasrikurapati/opt/anaconda3/lib/python3.8/site-packages/ipykernel/ipkernel.py:287: DeprecationWarning:\n",
      "\n",
      "`should_run_async` will not call `transform_cell` automatically in the future. Please pass the result to `transformed_cell` argument and any exception that happen during thetransform in `preprocessing_exc_tuple` in IPython 7.17 and above.\n",
      "\n"
     ]
    }
   ],
   "source": [
    "data_lda = {i: OrderedDict(lda.show_topic(i,25)) for i in range(total_topics)}"
   ]
  },
  {
   "cell_type": "code",
   "execution_count": 126,
   "id": "72e4dd18",
   "metadata": {},
   "outputs": [
    {
     "name": "stdout",
     "output_type": "stream",
     "text": [
      "(5, 39)\n"
     ]
    },
    {
     "name": "stderr",
     "output_type": "stream",
     "text": [
      "/Users/tejasrikurapati/opt/anaconda3/lib/python3.8/site-packages/ipykernel/ipkernel.py:287: DeprecationWarning:\n",
      "\n",
      "`should_run_async` will not call `transform_cell` automatically in the future. Please pass the result to `transformed_cell` argument and any exception that happen during thetransform in `preprocessing_exc_tuple` in IPython 7.17 and above.\n",
      "\n"
     ]
    }
   ],
   "source": [
    "df_lda = pd.DataFrame(data_lda)\n",
    "df_lda = df_lda.fillna(0).T\n",
    "print(df_lda.shape)"
   ]
  },
  {
   "cell_type": "code",
   "execution_count": 128,
   "id": "eba9dff5",
   "metadata": {},
   "outputs": [
    {
     "name": "stderr",
     "output_type": "stream",
     "text": [
      "/Users/tejasrikurapati/opt/anaconda3/lib/python3.8/site-packages/ipykernel/ipkernel.py:287: DeprecationWarning:\n",
      "\n",
      "`should_run_async` will not call `transform_cell` automatically in the future. Please pass the result to `transformed_cell` argument and any exception that happen during thetransform in `preprocessing_exc_tuple` in IPython 7.17 and above.\n",
      "\n"
     ]
    },
    {
     "data": {
      "image/png": "[encoded data removed]",
      "text/plain": [
       "<Figure size 1080x1080 with 4 Axes>"
      ]
     },
     "metadata": {
      "needs_background": "light"
     },
     "output_type": "display_data"
    }
   ],
   "source": [
    "g=sns.clustermap(df_lda.corr(), center=0, standard_scale=1, cmap=\"RdBu\", metric='cosine', linewidths=.75, figsize=(15, 15))\n",
    "plt.setp(g.ax_heatmap.yaxis.get_majorticklabels(), rotation=0)\n",
    "plt.show()"
   ]
  }
 ],
 "metadata": {
  "kernelspec": {
   "display_name": "Python 3",
   "language": "python",
   "name": "python3"
  },
  "language_info": {
   "codemirror_mode": {
    "name": "ipython",
    "version": 3
   },
   "file_extension": ".py",
   "mimetype": "text/x-python",
   "name": "python",
   "nbconvert_exporter": "python",
   "pygments_lexer": "ipython3",
   "version": "3.8.8"
  }
 },
 "nbformat": 4,
 "nbformat_minor": 5
}
