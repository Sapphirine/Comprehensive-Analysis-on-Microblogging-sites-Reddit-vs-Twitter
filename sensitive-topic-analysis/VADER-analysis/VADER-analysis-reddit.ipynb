{
 "cells": [
  {
   "cell_type": "markdown",
   "id": "69049ea7",
   "metadata": {},
   "source": [
    "# Importing libraries"
   ]
  },
  {
   "cell_type": "code",
   "execution_count": 16,
   "id": "5c823ced",
   "metadata": {},
   "outputs": [
    {
     "name": "stderr",
     "output_type": "stream",
     "text": [
      "[nltk_data] Downloading package wordnet to\n",
      "[nltk_data]     /Users/tejasrikurapati/nltk_data...\n",
      "[nltk_data]   Package wordnet is already up-to-date!\n",
      "[nltk_data] Downloading package punkt to\n",
      "[nltk_data]     /Users/tejasrikurapati/nltk_data...\n",
      "[nltk_data]   Package punkt is already up-to-date!\n"
     ]
    }
   ],
   "source": [
    "from nltk.corpus import stopwords\n",
    "stoplist = stopwords.words('english')\n",
    "import pandas as pd\n",
    "import nltk\n",
    "import unicodedata\n",
    "import re\n",
    "import nltk\n",
    "from nltk.corpus import stopwords\n",
    "nltk.download('wordnet')\n",
    "import matplotlib.pyplot as plt\n",
    "nltk.download('punkt')\n",
    "from nltk.sentiment.vader import SentimentIntensityAnalyzer"
   ]
  },
  {
   "cell_type": "markdown",
   "id": "26a9529f",
   "metadata": {},
   "source": [
    "# Importing Reddit data"
   ]
  },
  {
   "cell_type": "code",
   "execution_count": 6,
   "id": "413bb110",
   "metadata": {},
   "outputs": [],
   "source": [
    "reddit = pd.read_csv('./reddit.csv')"
   ]
  },
  {
   "cell_type": "code",
   "execution_count": 11,
   "id": "8d96df6d",
   "metadata": {},
   "outputs": [
    {
     "data": {
      "text/html": [
       "<div>\n",
       "<style scoped>\n",
       "    .dataframe tbody tr th:only-of-type {\n",
       "        vertical-align: middle;\n",
       "    }\n",
       "\n",
       "    .dataframe tbody tr th {\n",
       "        vertical-align: top;\n",
       "    }\n",
       "\n",
       "    .dataframe thead th {\n",
       "        text-align: right;\n",
       "    }\n",
       "</style>\n",
       "<table border=\"1\" class=\"dataframe\">\n",
       "  <thead>\n",
       "    <tr style=\"text-align: right;\">\n",
       "      <th></th>\n",
       "      <th>Unnamed: 0</th>\n",
       "      <th>data</th>\n",
       "    </tr>\n",
       "  </thead>\n",
       "  <tbody>\n",
       "    <tr>\n",
       "      <th>0</th>\n",
       "      <td>0</td>\n",
       "      <td>This is Ali Larsen aka Gross Gore. One of the ...</td>\n",
       "    </tr>\n",
       "    <tr>\n",
       "      <th>1</th>\n",
       "      <td>1</td>\n",
       "      <td>My Father, Filmmaker Rob Cohen is a Rapist and...</td>\n",
       "    </tr>\n",
       "    <tr>\n",
       "      <th>2</th>\n",
       "      <td>2</td>\n",
       "      <td>Tara Reade on Rising // What we see here is a ...</td>\n",
       "    </tr>\n",
       "    <tr>\n",
       "      <th>3</th>\n",
       "      <td>3</td>\n",
       "      <td>Asia Argento, Who Accused Weinstein, Made a De...</td>\n",
       "    </tr>\n",
       "    <tr>\n",
       "      <th>4</th>\n",
       "      <td>4</td>\n",
       "      <td>DONT LET HER STORY BE SILENCED. We can not all...</td>\n",
       "    </tr>\n",
       "    <tr>\n",
       "      <th>...</th>\n",
       "      <td>...</td>\n",
       "      <td>...</td>\n",
       "    </tr>\n",
       "    <tr>\n",
       "      <th>369</th>\n",
       "      <td>369</td>\n",
       "      <td>The Woman I Was\\n\\n\\nLast week, my counselor r...</td>\n",
       "    </tr>\n",
       "    <tr>\n",
       "      <th>370</th>\n",
       "      <td>370</td>\n",
       "      <td>I made a throwaway account just to say this. N...</td>\n",
       "    </tr>\n",
       "    <tr>\n",
       "      <th>371</th>\n",
       "      <td>371</td>\n",
       "      <td>Years ago I told my therapist that I went to a...</td>\n",
       "    </tr>\n",
       "    <tr>\n",
       "      <th>372</th>\n",
       "      <td>372</td>\n",
       "      <td>Hey guys, I just wanted to let you know since ...</td>\n",
       "    </tr>\n",
       "    <tr>\n",
       "      <th>373</th>\n",
       "      <td>373</td>\n",
       "      <td>hi. i realized that sexual assult awareness mo...</td>\n",
       "    </tr>\n",
       "  </tbody>\n",
       "</table>\n",
       "<p>374 rows × 2 columns</p>\n",
       "</div>"
      ],
      "text/plain": [
       "     Unnamed: 0                                               data\n",
       "0             0  This is Ali Larsen aka Gross Gore. One of the ...\n",
       "1             1  My Father, Filmmaker Rob Cohen is a Rapist and...\n",
       "2             2  Tara Reade on Rising // What we see here is a ...\n",
       "3             3  Asia Argento, Who Accused Weinstein, Made a De...\n",
       "4             4  DONT LET HER STORY BE SILENCED. We can not all...\n",
       "..          ...                                                ...\n",
       "369         369  The Woman I Was\\n\\n\\nLast week, my counselor r...\n",
       "370         370  I made a throwaway account just to say this. N...\n",
       "371         371  Years ago I told my therapist that I went to a...\n",
       "372         372  Hey guys, I just wanted to let you know since ...\n",
       "373         373  hi. i realized that sexual assult awareness mo...\n",
       "\n",
       "[374 rows x 2 columns]"
      ]
     },
     "execution_count": 11,
     "metadata": {},
     "output_type": "execute_result"
    }
   ],
   "source": [
    "reddit"
   ]
  },
  {
   "cell_type": "code",
   "execution_count": 23,
   "id": "484291ca",
   "metadata": {},
   "outputs": [],
   "source": [
    "reddit = reddit.drop(['Unnamed: 0'],axis=1) #removing unnamed cloumn"
   ]
  },
  {
   "cell_type": "markdown",
   "id": "fb814dbb",
   "metadata": {},
   "source": [
    "# VADER sentiment analysis"
   ]
  },
  {
   "cell_type": "code",
   "execution_count": 17,
   "id": "aa6eaa63",
   "metadata": {},
   "outputs": [],
   "source": [
    "sid = SentimentIntensityAnalyzer()"
   ]
  },
  {
   "cell_type": "code",
   "execution_count": 13,
   "id": "3a3a6a6f",
   "metadata": {},
   "outputs": [],
   "source": [
    "reddit.dropna(inplace=True)"
   ]
  },
  {
   "cell_type": "code",
   "execution_count": 19,
   "id": "6f1aa9b2",
   "metadata": {},
   "outputs": [],
   "source": [
    "reddit['scores'] = reddit['data'].apply(lambda content: sid.polarity_scores(content)) #calculating polarity"
   ]
  },
  {
   "cell_type": "code",
   "execution_count": 20,
   "id": "db640206",
   "metadata": {},
   "outputs": [],
   "source": [
    "reddit['compound']  = reddit['scores'].apply(lambda score_dict: score_dict['compound']) #calculating compound score"
   ]
  },
  {
   "cell_type": "code",
   "execution_count": 21,
   "id": "58a90cb6",
   "metadata": {},
   "outputs": [],
   "source": [
    "reddit['comp_score'] = reddit['compound'].apply(lambda t : 'pos' if t>=0 else 'neg') #classifying as pos, neg, neu"
   ]
  },
  {
   "cell_type": "code",
   "execution_count": 25,
   "id": "8fe9fe4a",
   "metadata": {},
   "outputs": [
    {
     "data": {
      "text/html": [
       "<div>\n",
       "<style scoped>\n",
       "    .dataframe tbody tr th:only-of-type {\n",
       "        vertical-align: middle;\n",
       "    }\n",
       "\n",
       "    .dataframe tbody tr th {\n",
       "        vertical-align: top;\n",
       "    }\n",
       "\n",
       "    .dataframe thead th {\n",
       "        text-align: right;\n",
       "    }\n",
       "</style>\n",
       "<table border=\"1\" class=\"dataframe\">\n",
       "  <thead>\n",
       "    <tr style=\"text-align: right;\">\n",
       "      <th></th>\n",
       "      <th>data</th>\n",
       "      <th>scores</th>\n",
       "      <th>compound</th>\n",
       "      <th>comp_score</th>\n",
       "    </tr>\n",
       "  </thead>\n",
       "  <tbody>\n",
       "    <tr>\n",
       "      <th>0</th>\n",
       "      <td>This is Ali Larsen aka Gross Gore. One of the ...</td>\n",
       "      <td>{'neg': 0.219, 'neu': 0.603, 'pos': 0.178, 'co...</td>\n",
       "      <td>-0.3182</td>\n",
       "      <td>neg</td>\n",
       "    </tr>\n",
       "    <tr>\n",
       "      <th>1</th>\n",
       "      <td>My Father, Filmmaker Rob Cohen is a Rapist and...</td>\n",
       "      <td>{'neg': 0.628, 'neu': 0.372, 'pos': 0.0, 'comp...</td>\n",
       "      <td>-0.9153</td>\n",
       "      <td>neg</td>\n",
       "    </tr>\n",
       "    <tr>\n",
       "      <th>2</th>\n",
       "      <td>Tara Reade on Rising // What we see here is a ...</td>\n",
       "      <td>{'neg': 0.242, 'neu': 0.664, 'pos': 0.094, 'co...</td>\n",
       "      <td>-0.7456</td>\n",
       "      <td>neg</td>\n",
       "    </tr>\n",
       "    <tr>\n",
       "      <th>3</th>\n",
       "      <td>Asia Argento, Who Accused Weinstein, Made a De...</td>\n",
       "      <td>{'neg': 0.18, 'neu': 0.82, 'pos': 0.0, 'compou...</td>\n",
       "      <td>-0.2960</td>\n",
       "      <td>neg</td>\n",
       "    </tr>\n",
       "    <tr>\n",
       "      <th>4</th>\n",
       "      <td>DONT LET HER STORY BE SILENCED. We can not all...</td>\n",
       "      <td>{'neg': 0.085, 'neu': 0.716, 'pos': 0.199, 'co...</td>\n",
       "      <td>0.4973</td>\n",
       "      <td>pos</td>\n",
       "    </tr>\n",
       "    <tr>\n",
       "      <th>...</th>\n",
       "      <td>...</td>\n",
       "      <td>...</td>\n",
       "      <td>...</td>\n",
       "      <td>...</td>\n",
       "    </tr>\n",
       "    <tr>\n",
       "      <th>369</th>\n",
       "      <td>The Woman I Was\\n\\n\\nLast week, my counselor r...</td>\n",
       "      <td>{'neg': 0.157, 'neu': 0.673, 'pos': 0.17, 'com...</td>\n",
       "      <td>0.9523</td>\n",
       "      <td>pos</td>\n",
       "    </tr>\n",
       "    <tr>\n",
       "      <th>370</th>\n",
       "      <td>I made a throwaway account just to say this. N...</td>\n",
       "      <td>{'neg': 0.175, 'neu': 0.691, 'pos': 0.134, 'co...</td>\n",
       "      <td>-0.9955</td>\n",
       "      <td>neg</td>\n",
       "    </tr>\n",
       "    <tr>\n",
       "      <th>371</th>\n",
       "      <td>Years ago I told my therapist that I went to a...</td>\n",
       "      <td>{'neg': 0.085, 'neu': 0.823, 'pos': 0.092, 'co...</td>\n",
       "      <td>0.4778</td>\n",
       "      <td>pos</td>\n",
       "    </tr>\n",
       "    <tr>\n",
       "      <th>372</th>\n",
       "      <td>Hey guys, I just wanted to let you know since ...</td>\n",
       "      <td>{'neg': 0.109, 'neu': 0.752, 'pos': 0.139, 'co...</td>\n",
       "      <td>0.7927</td>\n",
       "      <td>pos</td>\n",
       "    </tr>\n",
       "    <tr>\n",
       "      <th>373</th>\n",
       "      <td>hi. i realized that sexual assult awareness mo...</td>\n",
       "      <td>{'neg': 0.129, 'neu': 0.725, 'pos': 0.147, 'co...</td>\n",
       "      <td>0.9341</td>\n",
       "      <td>pos</td>\n",
       "    </tr>\n",
       "  </tbody>\n",
       "</table>\n",
       "<p>374 rows × 4 columns</p>\n",
       "</div>"
      ],
      "text/plain": [
       "                                                  data  \\\n",
       "0    This is Ali Larsen aka Gross Gore. One of the ...   \n",
       "1    My Father, Filmmaker Rob Cohen is a Rapist and...   \n",
       "2    Tara Reade on Rising // What we see here is a ...   \n",
       "3    Asia Argento, Who Accused Weinstein, Made a De...   \n",
       "4    DONT LET HER STORY BE SILENCED. We can not all...   \n",
       "..                                                 ...   \n",
       "369  The Woman I Was\\n\\n\\nLast week, my counselor r...   \n",
       "370  I made a throwaway account just to say this. N...   \n",
       "371  Years ago I told my therapist that I went to a...   \n",
       "372  Hey guys, I just wanted to let you know since ...   \n",
       "373  hi. i realized that sexual assult awareness mo...   \n",
       "\n",
       "                                                scores  compound comp_score  \n",
       "0    {'neg': 0.219, 'neu': 0.603, 'pos': 0.178, 'co...   -0.3182        neg  \n",
       "1    {'neg': 0.628, 'neu': 0.372, 'pos': 0.0, 'comp...   -0.9153        neg  \n",
       "2    {'neg': 0.242, 'neu': 0.664, 'pos': 0.094, 'co...   -0.7456        neg  \n",
       "3    {'neg': 0.18, 'neu': 0.82, 'pos': 0.0, 'compou...   -0.2960        neg  \n",
       "4    {'neg': 0.085, 'neu': 0.716, 'pos': 0.199, 'co...    0.4973        pos  \n",
       "..                                                 ...       ...        ...  \n",
       "369  {'neg': 0.157, 'neu': 0.673, 'pos': 0.17, 'com...    0.9523        pos  \n",
       "370  {'neg': 0.175, 'neu': 0.691, 'pos': 0.134, 'co...   -0.9955        neg  \n",
       "371  {'neg': 0.085, 'neu': 0.823, 'pos': 0.092, 'co...    0.4778        pos  \n",
       "372  {'neg': 0.109, 'neu': 0.752, 'pos': 0.139, 'co...    0.7927        pos  \n",
       "373  {'neg': 0.129, 'neu': 0.725, 'pos': 0.147, 'co...    0.9341        pos  \n",
       "\n",
       "[374 rows x 4 columns]"
      ]
     },
     "execution_count": 25,
     "metadata": {},
     "output_type": "execute_result"
    }
   ],
   "source": [
    "reddit"
   ]
  },
  {
   "cell_type": "code",
   "execution_count": 26,
   "id": "70f7fa64",
   "metadata": {},
   "outputs": [
    {
     "data": {
      "text/plain": [
       "neg    245\n",
       "pos    129\n",
       "Name: comp_score, dtype: int64"
      ]
     },
     "execution_count": 26,
     "metadata": {},
     "output_type": "execute_result"
    }
   ],
   "source": [
    "reddit['comp_score'].value_counts()"
   ]
  },
  {
   "cell_type": "code",
   "execution_count": null,
   "id": "eb26de17",
   "metadata": {},
   "outputs": [],
   "source": []
  }
 ],
 "metadata": {
  "kernelspec": {
   "display_name": "Python 3",
   "language": "python",
   "name": "python3"
  },
  "language_info": {
   "codemirror_mode": {
    "name": "ipython",
    "version": 3
   },
   "file_extension": ".py",
   "mimetype": "text/x-python",
   "name": "python",
   "nbconvert_exporter": "python",
   "pygments_lexer": "ipython3",
   "version": "3.8.8"
  }
 },
 "nbformat": 4,
 "nbformat_minor": 5
}
