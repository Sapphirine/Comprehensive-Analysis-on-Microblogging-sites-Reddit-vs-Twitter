{
 "cells": [
  {
   "cell_type": "markdown",
   "id": "c9aa1c81",
   "metadata": {},
   "source": [
    "# Importing libraries"
   ]
  },
  {
   "cell_type": "code",
   "execution_count": 605,
   "id": "fada2c50",
   "metadata": {},
   "outputs": [],
   "source": [
    "import pandas as pd\n",
    "import regex as re\n",
    "import emoji\n",
    "import nltk\n",
    "nltk.download('words')\n",
    "words = set(nltk.corpus.words.words())\n",
    "!pip install gensim\n",
    "!pip install pyLDAvis\n",
    "!pip install pyLDAvis.gensim\n",
    "!pip install language_detector\n",
    "!pip install langdetect\n",
    "import os\n",
    "import pandas as pd\n",
    "import numpy as np\n",
    "from plotly.offline import download_plotlyjs, init_notebook_mode, plot, iplot\n",
    "import plotly as py\n",
    "import plotly.graph_objs as go\n",
    "import gensim\n",
    "from gensim import corpora, models, similarities\n",
    "import logging\n",
    "import tempfile\n",
    "from nltk.corpus import stopwords\n",
    "from string import punctuation\n",
    "from collections import OrderedDict\n",
    "import seaborn as sns\n",
    "import pyLDAvis\n",
    "import pyLDAvis.gensim_models as gensimvis\n",
    "pyLDAvis.enable_notebook()\n",
    "import matplotlib.pyplot as plt\n",
    "%matplotlib inline\n",
    "import warnings\n",
    "warnings.filterwarnings(\"ignore\")\n",
    "init_notebook_mode(connected=True)\n",
    "from langdetect import detect"
   ]
  },
  {
   "cell_type": "markdown",
   "id": "8827354c",
   "metadata": {},
   "source": [
    "# Displaying the dataset"
   ]
  },
  {
   "cell_type": "code",
   "execution_count": 604,
   "id": "87716116",
   "metadata": {},
   "outputs": [],
   "source": [
    "tweet = pd.read_csv('./tweets_data.csv')\n",
    "tweetset = pd.DataFrame()\n",
    "tweetset['Column'] = tweet['0']\n",
    "tweetset = pd.DataFrame(tweetset)"
   ]
  },
  {
   "cell_type": "code",
   "execution_count": 595,
   "id": "fad761c2",
   "metadata": {},
   "outputs": [
    {
     "data": {
      "text/html": [
       "<div>\n",
       "<style scoped>\n",
       "    .dataframe tbody tr th:only-of-type {\n",
       "        vertical-align: middle;\n",
       "    }\n",
       "\n",
       "    .dataframe tbody tr th {\n",
       "        vertical-align: top;\n",
       "    }\n",
       "\n",
       "    .dataframe thead th {\n",
       "        text-align: right;\n",
       "    }\n",
       "</style>\n",
       "<table border=\"1\" class=\"dataframe\">\n",
       "  <thead>\n",
       "    <tr style=\"text-align: right;\">\n",
       "      <th></th>\n",
       "      <th>Column</th>\n",
       "    </tr>\n",
       "  </thead>\n",
       "  <tbody>\n",
       "    <tr>\n",
       "      <th>0</th>\n",
       "      <td># metoo</td>\n",
       "    </tr>\n",
       "    <tr>\n",
       "      <th>1</th>\n",
       "      <td>i too have been a victim of sexual harrassment...</td>\n",
       "    </tr>\n",
       "    <tr>\n",
       "      <th>2</th>\n",
       "      <td>@ realjameswoods @ twitter elizabeth perkins c...</td>\n",
       "    </tr>\n",
       "    <tr>\n",
       "      <th>3</th>\n",
       "      <td>elizabeth perkins names james woods during mar...</td>\n",
       "    </tr>\n",
       "    <tr>\n",
       "      <th>4</th>\n",
       "      <td>the worst betrayal is trust betrayal 🌹 # metoo</td>\n",
       "    </tr>\n",
       "    <tr>\n",
       "      <th>...</th>\n",
       "      <td>...</td>\n",
       "    </tr>\n",
       "    <tr>\n",
       "      <th>17165</th>\n",
       "      <td>hi # metoo # beauty # weightloss # gastrobypas...</td>\n",
       "    </tr>\n",
       "    <tr>\n",
       "      <th>17166</th>\n",
       "      <td>@ tonyrobbins are you fulfilled right now tony...</td>\n",
       "    </tr>\n",
       "    <tr>\n",
       "      <th>17167</th>\n",
       "      <td>@ sharkbaittx73 @ gbrfnt oh geez # metoo even ...</td>\n",
       "    </tr>\n",
       "    <tr>\n",
       "      <th>17168</th>\n",
       "      <td>i stand with the # metoo movement and believe ...</td>\n",
       "    </tr>\n",
       "    <tr>\n",
       "      <th>17169</th>\n",
       "      <td>hi # metoo # beauty # weightloss # gastrobypas...</td>\n",
       "    </tr>\n",
       "  </tbody>\n",
       "</table>\n",
       "<p>17170 rows × 1 columns</p>\n",
       "</div>"
      ],
      "text/plain": [
       "                                                  Column\n",
       "0                                                # metoo\n",
       "1      i too have been a victim of sexual harrassment...\n",
       "2      @ realjameswoods @ twitter elizabeth perkins c...\n",
       "3      elizabeth perkins names james woods during mar...\n",
       "4         the worst betrayal is trust betrayal 🌹 # metoo\n",
       "...                                                  ...\n",
       "17165  hi # metoo # beauty # weightloss # gastrobypas...\n",
       "17166  @ tonyrobbins are you fulfilled right now tony...\n",
       "17167  @ sharkbaittx73 @ gbrfnt oh geez # metoo even ...\n",
       "17168  i stand with the # metoo movement and believe ...\n",
       "17169  hi # metoo # beauty # weightloss # gastrobypas...\n",
       "\n",
       "[17170 rows x 1 columns]"
      ]
     },
     "execution_count": 595,
     "metadata": {},
     "output_type": "execute_result"
    }
   ],
   "source": [
    "tweetset"
   ]
  },
  {
   "cell_type": "markdown",
   "id": "1e93c390",
   "metadata": {},
   "source": [
    "# Text Cleaning\n",
    "\n",
    "In the cleaner function, we remove numbers and special chracters. We remove tweets that are not in eglish"
   ]
  },
  {
   "cell_type": "code",
   "execution_count": 597,
   "id": "f7763092",
   "metadata": {},
   "outputs": [],
   "source": [
    "def cleaner(tweet):\n",
    "    tweet = re.sub(\"@[A-Za-z0-9]+\",\"\",tweet) #Remove @ sign\n",
    "    tweet = \" \".join(tweet.split())\n",
    "    tweet = re.sub(\"([^\\x00-\\x7F])+\",\" \",tweet)\n",
    "    tweet = ''.join(c for c in tweet if c not in emoji.UNICODE_EMOJI) #Remove Emojis\n",
    "    tweet = tweet.replace(\"#\", \"\").replace(\"_\", \" \") #Remove hashtag sign but keep the text\n",
    "    return tweet"
   ]
  },
  {
   "cell_type": "code",
   "execution_count": 598,
   "id": "c6d5f8f9",
   "metadata": {},
   "outputs": [],
   "source": [
    "tweetset['Column'] = tweetset['Column'].map(lambda x: cleaner(x))\n",
    "\n",
    "tweetset['detect'] = detect(str(tweetset['Column']))\n",
    "\n",
    "for i in tweetset.detect:\n",
    "    if i not in ('en'):\n",
    "        tweetset.drop(i)"
   ]
  },
  {
   "cell_type": "code",
   "execution_count": 600,
   "id": "73ea203e",
   "metadata": {},
   "outputs": [
    {
     "data": {
      "text/html": [
       "<div>\n",
       "<style scoped>\n",
       "    .dataframe tbody tr th:only-of-type {\n",
       "        vertical-align: middle;\n",
       "    }\n",
       "\n",
       "    .dataframe tbody tr th {\n",
       "        vertical-align: top;\n",
       "    }\n",
       "\n",
       "    .dataframe thead th {\n",
       "        text-align: right;\n",
       "    }\n",
       "</style>\n",
       "<table border=\"1\" class=\"dataframe\">\n",
       "  <thead>\n",
       "    <tr style=\"text-align: right;\">\n",
       "      <th></th>\n",
       "      <th>Column</th>\n",
       "      <th>detect</th>\n",
       "    </tr>\n",
       "  </thead>\n",
       "  <tbody>\n",
       "    <tr>\n",
       "      <th>0</th>\n",
       "      <td>metoo</td>\n",
       "      <td>en</td>\n",
       "    </tr>\n",
       "    <tr>\n",
       "      <th>1</th>\n",
       "      <td>i too have been a victim of sexual harrassment...</td>\n",
       "      <td>en</td>\n",
       "    </tr>\n",
       "    <tr>\n",
       "      <th>2</th>\n",
       "      <td>@ realjameswoods @ twitter elizabeth perkins c...</td>\n",
       "      <td>en</td>\n",
       "    </tr>\n",
       "    <tr>\n",
       "      <th>3</th>\n",
       "      <td>elizabeth perkins names james woods during mar...</td>\n",
       "      <td>en</td>\n",
       "    </tr>\n",
       "    <tr>\n",
       "      <th>4</th>\n",
       "      <td>the worst betrayal is trust betrayal    metoo</td>\n",
       "      <td>en</td>\n",
       "    </tr>\n",
       "    <tr>\n",
       "      <th>...</th>\n",
       "      <td>...</td>\n",
       "      <td>...</td>\n",
       "    </tr>\n",
       "    <tr>\n",
       "      <th>17165</th>\n",
       "      <td>hi  metoo  beauty  weightloss  gastrobypass  f...</td>\n",
       "      <td>en</td>\n",
       "    </tr>\n",
       "    <tr>\n",
       "      <th>17166</th>\n",
       "      <td>@ tonyrobbins are you fulfilled right now tony...</td>\n",
       "      <td>en</td>\n",
       "    </tr>\n",
       "    <tr>\n",
       "      <th>17167</th>\n",
       "      <td>@ sharkbaittx73 @ gbrfnt oh geez  metoo even h...</td>\n",
       "      <td>en</td>\n",
       "    </tr>\n",
       "    <tr>\n",
       "      <th>17168</th>\n",
       "      <td>i stand with the  metoo movement and believe t...</td>\n",
       "      <td>en</td>\n",
       "    </tr>\n",
       "    <tr>\n",
       "      <th>17169</th>\n",
       "      <td>hi  metoo  beauty  weightloss  gastrobypass  f...</td>\n",
       "      <td>en</td>\n",
       "    </tr>\n",
       "  </tbody>\n",
       "</table>\n",
       "<p>17170 rows × 2 columns</p>\n",
       "</div>"
      ],
      "text/plain": [
       "                                                  Column detect\n",
       "0                                                  metoo     en\n",
       "1      i too have been a victim of sexual harrassment...     en\n",
       "2      @ realjameswoods @ twitter elizabeth perkins c...     en\n",
       "3      elizabeth perkins names james woods during mar...     en\n",
       "4          the worst betrayal is trust betrayal    metoo     en\n",
       "...                                                  ...    ...\n",
       "17165  hi  metoo  beauty  weightloss  gastrobypass  f...     en\n",
       "17166  @ tonyrobbins are you fulfilled right now tony...     en\n",
       "17167  @ sharkbaittx73 @ gbrfnt oh geez  metoo even h...     en\n",
       "17168  i stand with the  metoo movement and believe t...     en\n",
       "17169  hi  metoo  beauty  weightloss  gastrobypass  f...     en\n",
       "\n",
       "[17170 rows x 2 columns]"
      ]
     },
     "execution_count": 600,
     "metadata": {},
     "output_type": "execute_result"
    }
   ],
   "source": [
    "tweetset"
   ]
  },
  {
   "cell_type": "code",
   "execution_count": 601,
   "id": "23e303b7",
   "metadata": {},
   "outputs": [],
   "source": [
    "tweetset.to_csv('./tweets.csv')"
   ]
  },
  {
   "cell_type": "code",
   "execution_count": 571,
   "id": "b96f714a",
   "metadata": {},
   "outputs": [
    {
     "data": {
      "text/plain": [
       "[' metoo',\n",
       " 'i too have been a victim of sexual harrassment and like everyone else i am struggling to come to terms with what happened .  metoo',\n",
       " '@ realjameswoods @ twitter elizabeth perkins called out the actor james woods on sunday , holding a sign bearing the words   james woods  metoo   as she joined a los angeles march designed to raise awareness of sexual assault and sexual harassment , and to demonstrate solidarity with the victims .',\n",
       " 'elizabeth perkins names james woods during march against sexual harassment !  jameswoods  metoo  sexualassault  rape',\n",
       " 'the worst betrayal is trust betrayal    metoo',\n",
       " 'we cannot leave farmworkers or any low - wage women workers out of the  metoo movement . read this beautiful letter of solidarity for the women of hollywood from alianza nacional de campesinas .',\n",
       " ' metoo',\n",
       " 'actor @ realjameswoods outed by actress elizabeth perkins  metoo  meat14  pedophiles',\n",
       " '@ 3l3v3nth too many of us have had similar things happen to us , often more than once in our lives , by men who threatened us ... just like moore threatened beverly .  & lt ; pure evil & gt ;  metoo',\n",
       " '@ realjameswoods u just got  metoo by elizabeth perkins . it doesn   t surprise me . you creepy fuck . i hope u share the same cell as your boy trump']"
      ]
     },
     "execution_count": 571,
     "metadata": {},
     "output_type": "execute_result"
    }
   ],
   "source": [
    "# we convert dataset to list\n",
    "corpus=[]\n",
    "a=[]\n",
    "for i in range(len(tweetset['Column'])):\n",
    "        a=tweetset['Column'][i]\n",
    "        corpus.append(a)\n",
    "        \n",
    "corpus[0:10]"
   ]
  },
  {
   "cell_type": "code",
   "execution_count": 574,
   "id": "25918cc5",
   "metadata": {},
   "outputs": [
    {
     "name": "stdout",
     "output_type": "stream",
     "text": [
      "Folder \"/var/folders/yd/dwdfnncj7g10ds7bnpksx5bc0000gn/T\" will be used to save temporary dictionary and corpus.\n"
     ]
    }
   ],
   "source": [
    "TEMP_FOLDER = tempfile.gettempdir()\n",
    "print('Folder \"{}\" will be used to save temporary dictionary and corpus.'.format(TEMP_FOLDER))\n",
    "logging.basicConfig(format='%(asctime)s : %(levelname)s : %(message)s', level=logging.INFO)"
   ]
  },
  {
   "cell_type": "code",
   "execution_count": 575,
   "id": "d224789f",
   "metadata": {},
   "outputs": [
    {
     "name": "stderr",
     "output_type": "stream",
     "text": [
      "2021-12-17 01:24:52,840 : INFO : adding document #0 to Dictionary(0 unique tokens: [])\n",
      "2021-12-17 01:24:53,008 : INFO : adding document #10000 to Dictionary(24808 unique tokens: ['metoo', 'come', 'else', 'everyone', 'happened']...)\n",
      "2021-12-17 01:24:53,148 : INFO : built Dictionary(37138 unique tokens: ['metoo', 'come', 'else', 'everyone', 'happened']...) from 17170 documents (total 248689 corpus positions)\n",
      "2021-12-17 01:24:53,149 : INFO : Dictionary lifecycle event {'msg': \"built Dictionary(37138 unique tokens: ['metoo', 'come', 'else', 'everyone', 'happened']...) from 17170 documents (total 248689 corpus positions)\", 'datetime': '2021-12-17T01:24:53.149506', 'gensim': '4.1.2', 'python': '3.8.8 (default, Apr 13 2021, 12:59:45) \\n[Clang 10.0.0 ]', 'platform': 'macOS-10.16-x86_64-i386-64bit', 'event': 'created'}\n",
      "2021-12-17 01:24:53,150 : INFO : Dictionary lifecycle event {'fname_or_handle': '/var/folders/yd/dwdfnncj7g10ds7bnpksx5bc0000gn/T/elon.dict', 'separately': 'None', 'sep_limit': 10485760, 'ignore': frozenset(), 'datetime': '2021-12-17T01:24:53.150279', 'gensim': '4.1.2', 'python': '3.8.8 (default, Apr 13 2021, 12:59:45) \\n[Clang 10.0.0 ]', 'platform': 'macOS-10.16-x86_64-i386-64bit', 'event': 'saving'}\n",
      "2021-12-17 01:24:53,164 : INFO : saved /var/folders/yd/dwdfnncj7g10ds7bnpksx5bc0000gn/T/elon.dict\n"
     ]
    }
   ],
   "source": [
    "list1 = ['f','k','r','ist','gmo','said','even','la','el','est','qu','gt','en','se','rt','via','en','l','que','n','un','las','es','con','por','para','et','al','el','si','a','q','w','e','r','t','y','i','o','p','s','g','h','j','k','l','z','x','c','v','b','n','m',':','/','(',')','?','|',\";\",\"]\",\"[\",\".\",'@',\"&\",\"-\",\"!\"]\n",
    "stoplist = stopwords.words('english') + list1\n",
    "\n",
    "texts = [[word for word in str(document).lower().split() if word not in stoplist] for document in corpus]\n",
    "\n",
    "dictionary = corpora.Dictionary(texts)\n",
    "dictionary.save(os.path.join(TEMP_FOLDER, 'elon.dict'))  # store the dictionary, for future reference"
   ]
  },
  {
   "cell_type": "code",
   "execution_count": 576,
   "id": "01a79410",
   "metadata": {},
   "outputs": [
    {
     "name": "stderr",
     "output_type": "stream",
     "text": [
      "2021-12-17 01:24:54,312 : INFO : storing corpus in Matrix Market format to /var/folders/yd/dwdfnncj7g10ds7bnpksx5bc0000gn/T/elon.mm\n",
      "2021-12-17 01:24:54,313 : INFO : saving sparse matrix to /var/folders/yd/dwdfnncj7g10ds7bnpksx5bc0000gn/T/elon.mm\n",
      "2021-12-17 01:24:54,314 : INFO : PROGRESS: saving document #0\n",
      "2021-12-17 01:24:54,335 : INFO : PROGRESS: saving document #1000\n",
      "2021-12-17 01:24:54,356 : INFO : PROGRESS: saving document #2000\n",
      "2021-12-17 01:24:54,372 : INFO : PROGRESS: saving document #3000\n",
      "2021-12-17 01:24:54,420 : INFO : PROGRESS: saving document #4000\n",
      "2021-12-17 01:24:54,438 : INFO : PROGRESS: saving document #5000\n",
      "2021-12-17 01:24:54,458 : INFO : PROGRESS: saving document #6000\n",
      "2021-12-17 01:24:54,475 : INFO : PROGRESS: saving document #7000\n",
      "2021-12-17 01:24:54,493 : INFO : PROGRESS: saving document #8000\n",
      "2021-12-17 01:24:54,512 : INFO : PROGRESS: saving document #9000\n",
      "2021-12-17 01:24:54,530 : INFO : PROGRESS: saving document #10000\n",
      "2021-12-17 01:24:54,551 : INFO : PROGRESS: saving document #11000\n",
      "2021-12-17 01:24:54,572 : INFO : PROGRESS: saving document #12000\n",
      "2021-12-17 01:24:54,592 : INFO : PROGRESS: saving document #13000\n",
      "2021-12-17 01:24:54,610 : INFO : PROGRESS: saving document #14000\n",
      "2021-12-17 01:24:54,629 : INFO : PROGRESS: saving document #15000\n",
      "2021-12-17 01:24:54,650 : INFO : PROGRESS: saving document #16000\n",
      "2021-12-17 01:24:54,672 : INFO : PROGRESS: saving document #17000\n",
      "2021-12-17 01:24:54,677 : INFO : saved 17170x37138 matrix, density=0.035% (225702/637659460)\n",
      "2021-12-17 01:24:54,679 : INFO : saving MmCorpus index to /var/folders/yd/dwdfnncj7g10ds7bnpksx5bc0000gn/T/elon.mm.index\n"
     ]
    }
   ],
   "source": [
    "corpus = [dictionary.doc2bow(text) for text in texts]\n",
    "corpora.MmCorpus.serialize(os.path.join(TEMP_FOLDER, 'twitter.mm'), corpus)  # store to disk, for later use"
   ]
  },
  {
   "cell_type": "markdown",
   "id": "3dcda484",
   "metadata": {},
   "source": [
    "# Model for covarience matric heatmap"
   ]
  },
  {
   "cell_type": "code",
   "execution_count": 577,
   "id": "910a17ef",
   "metadata": {},
   "outputs": [
    {
     "name": "stderr",
     "output_type": "stream",
     "text": [
      "2021-12-17 01:24:55,144 : INFO : collecting document frequencies\n",
      "2021-12-17 01:24:55,145 : INFO : PROGRESS: processing document #0\n",
      "2021-12-17 01:24:55,175 : INFO : PROGRESS: processing document #10000\n",
      "2021-12-17 01:24:55,279 : INFO : TfidfModel lifecycle event {'msg': 'calculated IDF weights for 17170 documents and 37138 features (225702 matrix non-zeros)', 'datetime': '2021-12-17T01:24:55.279712', 'gensim': '4.1.2', 'python': '3.8.8 (default, Apr 13 2021, 12:59:45) \\n[Clang 10.0.0 ]', 'platform': 'macOS-10.16-x86_64-i386-64bit', 'event': 'initialize'}\n"
     ]
    }
   ],
   "source": [
    "tfidf = models.TfidfModel(corpus) # step 1 -- initialize a model"
   ]
  },
  {
   "cell_type": "code",
   "execution_count": 578,
   "id": "9ad28c9f",
   "metadata": {},
   "outputs": [],
   "source": [
    "corpus_tfidf = tfidf[corpus]  # step 2 -- use the model to transform vectors"
   ]
  },
  {
   "cell_type": "code",
   "execution_count": 579,
   "id": "4b680277",
   "metadata": {},
   "outputs": [],
   "source": [
    "total_topics = 5 #setting topics"
   ]
  },
  {
   "cell_type": "code",
   "execution_count": 580,
   "id": "e82cfc47",
   "metadata": {},
   "outputs": [
    {
     "name": "stderr",
     "output_type": "stream",
     "text": [
      "2021-12-17 01:24:57,026 : INFO : using symmetric alpha at 0.2\n",
      "2021-12-17 01:24:57,027 : INFO : using symmetric eta at 0.2\n",
      "2021-12-17 01:24:57,035 : INFO : using serial LDA version on this node\n",
      "2021-12-17 01:24:57,055 : INFO : running online (single-pass) LDA training, 5 topics, 1 passes over the supplied corpus of 17170 documents, updating model once every 2000 documents, evaluating perplexity every 17170 documents, iterating 50x with a convergence threshold of 0.001000\n",
      "2021-12-17 01:24:57,055 : WARNING : too few updates, training might not converge; consider increasing the number of passes or iterations to improve accuracy\n",
      "2021-12-17 01:24:57,056 : INFO : PROGRESS: pass 0, at document #2000/17170\n",
      "2021-12-17 01:24:57,808 : INFO : merging changes from 2000 documents into a model of 17170 documents\n",
      "2021-12-17 01:24:57,826 : INFO : topic #0 (0.200): 0.075*\"metoo\" + 0.071*\"@\" + 0.026*\"'\" + 0.021*\",\" + 0.010*\"-\" + 0.009*\"\"\" + 0.009*\"&\" + 0.009*\"amp\" + 0.008*\"women\" + 0.008*\"sexual\"\n",
      "2021-12-17 01:24:57,827 : INFO : topic #1 (0.200): 0.048*\"metoo\" + 0.043*\",\" + 0.027*\"@\" + 0.014*\"!\" + 0.010*\"'\" + 0.009*\"-\" + 0.008*\"women\" + 0.006*\"\"\" + 0.005*\"...\" + 0.004*\"people\"\n",
      "2021-12-17 01:24:57,829 : INFO : topic #2 (0.200): 0.050*\"metoo\" + 0.030*\",\" + 0.022*\"'\" + 0.020*\"@\" + 0.011*\"...\" + 0.009*\"-\" + 0.008*\"men\" + 0.008*\"women\" + 0.006*\"&\" + 0.005*\"amp\"\n",
      "2021-12-17 01:24:57,830 : INFO : topic #3 (0.200): 0.056*\"@\" + 0.051*\"metoo\" + 0.044*\",\" + 0.026*\"'\" + 0.012*\"women\" + 0.010*\"!\" + 0.010*\"sexual\" + 0.007*\"\"\" + 0.006*\"-\" + 0.005*\"harassment\"\n",
      "2021-12-17 01:24:57,832 : INFO : topic #4 (0.200): 0.052*\"metoo\" + 0.017*\",\" + 0.017*\"@\" + 0.011*\"'\" + 0.009*\"\"\" + 0.008*\"&\" + 0.007*\"women\" + 0.007*\"us\" + 0.007*\"amp\" + 0.005*\"one\"\n",
      "2021-12-17 01:24:57,833 : INFO : topic diff=4.837309, rho=1.000000\n",
      "2021-12-17 01:24:57,834 : INFO : PROGRESS: pass 0, at document #4000/17170\n",
      "2021-12-17 01:24:58,341 : INFO : merging changes from 2000 documents into a model of 17170 documents\n",
      "2021-12-17 01:24:58,350 : INFO : topic #0 (0.200): 0.104*\"metoo\" + 0.092*\"@\" + 0.025*\"'\" + 0.022*\",\" + 0.013*\"amp\" + 0.012*\"&\" + 0.012*\"-\" + 0.010*\"\"\" + 0.008*\"sexual\" + 0.008*\"!\"\n",
      "2021-12-17 01:24:58,351 : INFO : topic #1 (0.200): 0.063*\"metoo\" + 0.044*\",\" + 0.028*\"@\" + 0.016*\"!\" + 0.011*\"'\" + 0.009*\"-\" + 0.007*\"women\" + 0.006*\"...\" + 0.005*\"powell\" + 0.005*\"iwill\"\n",
      "2021-12-17 01:24:58,353 : INFO : topic #2 (0.200): 0.069*\"metoo\" + 0.034*\",\" + 0.022*\"'\" + 0.016*\"@\" + 0.012*\"...\" + 0.010*\"men\" + 0.009*\"-\" + 0.007*\"&\" + 0.007*\"amp\" + 0.006*\"women\"\n",
      "2021-12-17 01:24:58,354 : INFO : topic #3 (0.200): 0.066*\"metoo\" + 0.055*\"@\" + 0.043*\",\" + 0.025*\"'\" + 0.013*\"sexual\" + 0.013*\"!\" + 0.012*\"women\" + 0.008*\"\"\" + 0.007*\"harassment\" + 0.006*\"woman\"\n",
      "2021-12-17 01:24:58,355 : INFO : topic #4 (0.200): 0.065*\"metoo\" + 0.018*\"@\" + 0.018*\",\" + 0.010*\"&\" + 0.009*\"\"\" + 0.009*\"amp\" + 0.009*\"'\" + 0.008*\"women\" + 0.007*\"toxic\" + 0.007*\"men\"\n",
      "2021-12-17 01:24:58,356 : INFO : topic diff=0.543468, rho=0.707107\n",
      "2021-12-17 01:24:58,357 : INFO : PROGRESS: pass 0, at document #6000/17170\n",
      "2021-12-17 01:24:58,863 : INFO : merging changes from 2000 documents into a model of 17170 documents\n",
      "2021-12-17 01:24:58,872 : INFO : topic #0 (0.200): 0.111*\"@\" + 0.092*\"metoo\" + 0.024*\"'\" + 0.020*\",\" + 0.013*\"-\" + 0.011*\"amp\" + 0.011*\"&\" + 0.010*\"sexual\" + 0.008*\"\"\" + 0.008*\"women\"\n",
      "2021-12-17 01:24:58,874 : INFO : topic #1 (0.200): 0.057*\"metoo\" + 0.043*\",\" + 0.026*\"@\" + 0.018*\"!\" + 0.013*\"-\" + 0.012*\"de\" + 0.009*\"'\" + 0.007*\"women\" + 0.005*\"...\" + 0.005*\"youtube\"\n",
      "2021-12-17 01:24:58,875 : INFO : topic #2 (0.200): 0.060*\"metoo\" + 0.036*\",\" + 0.022*\"'\" + 0.014*\"@\" + 0.011*\"...\" + 0.009*\"men\" + 0.009*\"-\" + 0.007*\"women\" + 0.007*\"&\" + 0.006*\"amp\"\n",
      "2021-12-17 01:24:58,876 : INFO : topic #3 (0.200): 0.061*\"metoo\" + 0.056*\"@\" + 0.047*\",\" + 0.027*\"'\" + 0.015*\"!\" + 0.014*\"women\" + 0.013*\"sexual\" + 0.008*\"\"\" + 0.007*\"harassment\" + 0.006*\"-\"\n",
      "2021-12-17 01:24:58,878 : INFO : topic #4 (0.200): 0.055*\"metoo\" + 0.017*\",\" + 0.016*\"@\" + 0.009*\"&\" + 0.008*\"'\" + 0.008*\"de\" + 0.008*\"\"\" + 0.008*\"women\" + 0.007*\"amp\" + 0.006*\"-\"\n",
      "2021-12-17 01:24:58,879 : INFO : topic diff=0.532367, rho=0.577350\n",
      "2021-12-17 01:24:58,880 : INFO : PROGRESS: pass 0, at document #8000/17170\n",
      "2021-12-17 01:24:59,362 : INFO : merging changes from 2000 documents into a model of 17170 documents\n",
      "2021-12-17 01:24:59,370 : INFO : topic #0 (0.200): 0.132*\"@\" + 0.094*\"metoo\" + 0.022*\"'\" + 0.022*\",\" + 0.013*\"-\" + 0.011*\"amp\" + 0.011*\"&\" + 0.008*\"sexual\" + 0.008*\"!\" + 0.008*\"\"\"\n",
      "2021-12-17 01:24:59,372 : INFO : topic #1 (0.200): 0.055*\"metoo\" + 0.040*\",\" + 0.021*\"@\" + 0.018*\"!\" + 0.014*\"-\" + 0.009*\"de\" + 0.008*\"'\" + 0.006*\"women\" + 0.005*\"protests\" + 0.004*\"...\"\n",
      "2021-12-17 01:24:59,373 : INFO : topic #2 (0.200): 0.058*\"metoo\" + 0.037*\",\" + 0.021*\"'\" + 0.012*\"@\" + 0.009*\"...\" + 0.009*\"-\" + 0.007*\"women\" + 0.007*\"men\" + 0.007*\"&\" + 0.006*\"amp\"\n",
      "2021-12-17 01:24:59,375 : INFO : topic #3 (0.200): 0.062*\"metoo\" + 0.051*\"@\" + 0.050*\",\" + 0.024*\"'\" + 0.016*\"!\" + 0.015*\"women\" + 0.014*\"sexual\" + 0.009*\"harassment\" + 0.009*\"movement\" + 0.007*\"\"\"\n",
      "2021-12-17 01:24:59,376 : INFO : topic #4 (0.200): 0.051*\"metoo\" + 0.016*\",\" + 0.013*\"@\" + 0.007*\"&\" + 0.007*\"\"\" + 0.006*\"women\" + 0.006*\"de\" + 0.006*\"-\" + 0.006*\"'\" + 0.006*\"amp\"\n",
      "2021-12-17 01:24:59,377 : INFO : topic diff=0.486695, rho=0.500000\n",
      "2021-12-17 01:24:59,378 : INFO : PROGRESS: pass 0, at document #10000/17170\n",
      "2021-12-17 01:24:59,881 : INFO : merging changes from 2000 documents into a model of 17170 documents\n",
      "2021-12-17 01:24:59,890 : INFO : topic #0 (0.200): 0.129*\"@\" + 0.089*\"metoo\" + 0.023*\"'\" + 0.021*\",\" + 0.013*\"-\" + 0.011*\"amp\" + 0.011*\"&\" + 0.009*\"\"\" + 0.008*\"!\" + 0.007*\"sexual\"\n",
      "2021-12-17 01:24:59,891 : INFO : topic #1 (0.200): 0.053*\"metoo\" + 0.037*\",\" + 0.018*\"@\" + 0.017*\"!\" + 0.014*\"-\" + 0.009*\"de\" + 0.009*\"'\" + 0.005*\"women\" + 0.004*\"...\" + 0.004*\"\"\"\n",
      "2021-12-17 01:24:59,892 : INFO : topic #2 (0.200): 0.056*\"metoo\" + 0.039*\",\" + 0.024*\"'\" + 0.010*\"...\" + 0.010*\"@\" + 0.009*\"-\" + 0.008*\"women\" + 0.008*\"men\" + 0.007*\"&\" + 0.007*\"timesup\"\n",
      "2021-12-17 01:24:59,893 : INFO : topic #3 (0.200): 0.062*\"metoo\" + 0.049*\",\" + 0.044*\"@\" + 0.026*\"'\" + 0.017*\"!\" + 0.015*\"women\" + 0.012*\"sexual\" + 0.010*\"movement\" + 0.009*\"\"\" + 0.008*\"harassment\"\n",
      "2021-12-17 01:24:59,894 : INFO : topic #4 (0.200): 0.050*\"metoo\" + 0.014*\",\" + 0.011*\"@\" + 0.010*\"de\" + 0.008*\"\"\" + 0.006*\"timesup\" + 0.006*\"&\" + 0.005*\"-\" + 0.005*\"'\" + 0.005*\"new\"\n",
      "2021-12-17 01:24:59,895 : INFO : topic diff=0.523116, rho=0.447214\n",
      "2021-12-17 01:24:59,895 : INFO : PROGRESS: pass 0, at document #12000/17170\n",
      "2021-12-17 01:25:00,331 : INFO : merging changes from 2000 documents into a model of 17170 documents\n",
      "2021-12-17 01:25:00,339 : INFO : topic #0 (0.200): 0.129*\"@\" + 0.088*\"metoo\" + 0.021*\"'\" + 0.020*\",\" + 0.014*\"-\" + 0.011*\"&\" + 0.011*\"amp\" + 0.009*\"\"\" + 0.008*\"sexual\" + 0.008*\"women\"\n",
      "2021-12-17 01:25:00,341 : INFO : topic #1 (0.200): 0.053*\"metoo\" + 0.034*\",\" + 0.017*\"@\" + 0.017*\"!\" + 0.013*\"-\" + 0.009*\"de\" + 0.009*\"'\" + 0.005*\"essay\" + 0.004*\"make\" + 0.004*\"women\"\n",
      "2021-12-17 01:25:00,342 : INFO : topic #2 (0.200): 0.055*\"metoo\" + 0.041*\",\" + 0.024*\"'\" + 0.010*\"...\" + 0.009*\"women\" + 0.009*\"timesup\" + 0.009*\"-\" + 0.008*\"@\" + 0.008*\"men\" + 0.008*\"movement\"\n",
      "2021-12-17 01:25:00,343 : INFO : topic #3 (0.200): 0.061*\"metoo\" + 0.049*\",\" + 0.040*\"@\" + 0.024*\"'\" + 0.017*\"!\" + 0.015*\"women\" + 0.011*\"movement\" + 0.011*\"sexual\" + 0.009*\"\"\" + 0.008*\"-\"\n",
      "2021-12-17 01:25:00,344 : INFO : topic #4 (0.200): 0.047*\"metoo\" + 0.014*\",\" + 0.011*\"de\" + 0.009*\"@\" + 0.009*\"\"\" + 0.008*\"timesup\" + 0.008*\"blog\" + 0.007*\"mentalhealth\" + 0.007*\"lgbtq\" + 0.005*\"los\"\n",
      "2021-12-17 01:25:00,345 : INFO : topic diff=0.483753, rho=0.408248\n",
      "2021-12-17 01:25:00,345 : INFO : PROGRESS: pass 0, at document #14000/17170\n",
      "2021-12-17 01:25:00,771 : INFO : merging changes from 2000 documents into a model of 17170 documents\n",
      "2021-12-17 01:25:00,779 : INFO : topic #0 (0.200): 0.127*\"@\" + 0.088*\"metoo\" + 0.021*\"'\" + 0.020*\",\" + 0.015*\"-\" + 0.011*\"&\" + 0.011*\"amp\" + 0.010*\"\"\" + 0.008*\"women\" + 0.008*\"sexual\"\n",
      "2021-12-17 01:25:00,781 : INFO : topic #1 (0.200): 0.052*\"metoo\" + 0.033*\",\" + 0.016*\"!\" + 0.015*\"@\" + 0.012*\"de\" + 0.012*\"-\" + 0.008*\"'\" + 0.008*\"essay\" + 0.004*\"\"\" + 0.004*\"make\"\n",
      "2021-12-17 01:25:00,782 : INFO : topic #2 (0.200): 0.055*\"metoo\" + 0.043*\",\" + 0.024*\"'\" + 0.010*\"boundaries\" + 0.010*\"timesup\" + 0.010*\"...\" + 0.010*\"women\" + 0.009*\"-\" + 0.009*\"sex\" + 0.008*\"\"\"\n",
      "2021-12-17 01:25:00,783 : INFO : topic #3 (0.200): 0.062*\"metoo\" + 0.050*\",\" + 0.038*\"@\" + 0.023*\"'\" + 0.017*\"!\" + 0.015*\"women\" + 0.011*\"movement\" + 0.010*\"sexual\" + 0.009*\"\"\" + 0.008*\"-\"\n",
      "2021-12-17 01:25:00,784 : INFO : topic #4 (0.200): 0.046*\"metoo\" + 0.016*\"de\" + 0.014*\",\" + 0.010*\"blog\" + 0.010*\"\"\" + 0.010*\"lgbtq\" + 0.010*\"mentalhealth\" + 0.010*\"timesup\" + 0.009*\"sexual\" + 0.007*\"@\"\n",
      "2021-12-17 01:25:00,785 : INFO : topic diff=0.487646, rho=0.377964\n",
      "2021-12-17 01:25:00,786 : INFO : PROGRESS: pass 0, at document #16000/17170\n",
      "2021-12-17 01:25:01,201 : INFO : merging changes from 2000 documents into a model of 17170 documents\n",
      "2021-12-17 01:25:01,210 : INFO : topic #0 (0.200): 0.129*\"@\" + 0.089*\"metoo\" + 0.020*\"'\" + 0.019*\",\" + 0.017*\"-\" + 0.013*\"&\" + 0.011*\"amp\" + 0.010*\"\"\" + 0.008*\"women\" + 0.007*\"sexual\"\n",
      "2021-12-17 01:25:01,211 : INFO : topic #1 (0.200): 0.052*\"metoo\" + 0.033*\",\" + 0.015*\"!\" + 0.014*\"-\" + 0.014*\"@\" + 0.011*\"de\" + 0.007*\"'\" + 0.005*\"essay\" + 0.004*\"\"\" + 0.003*\"make\"\n",
      "2021-12-17 01:25:01,212 : INFO : topic #2 (0.200): 0.056*\"metoo\" + 0.044*\",\" + 0.024*\"'\" + 0.011*\"women\" + 0.011*\"...\" + 0.010*\"timesup\" + 0.009*\"-\" + 0.009*\"sex\" + 0.009*\"boundaries\" + 0.008*\"movement\"\n",
      "2021-12-17 01:25:01,214 : INFO : topic #3 (0.200): 0.062*\"metoo\" + 0.051*\",\" + 0.035*\"@\" + 0.022*\"'\" + 0.018*\"!\" + 0.014*\"women\" + 0.011*\"movement\" + 0.010*\"sexual\" + 0.009*\"-\" + 0.009*\"\"\"\n",
      "2021-12-17 01:25:01,215 : INFO : topic #4 (0.200): 0.046*\"metoo\" + 0.015*\"de\" + 0.015*\",\" + 0.011*\"sexual\" + 0.011*\"\"\" + 0.011*\"blog\" + 0.010*\"lgbtq\" + 0.010*\"mentalhealth\" + 0.010*\"timesup\" + 0.008*\"boundaries\"\n",
      "2021-12-17 01:25:01,216 : INFO : topic diff=0.444996, rho=0.353553\n",
      "2021-12-17 01:25:01,566 : INFO : -9.250 per-word bound, 608.9 perplexity estimate based on a held-out corpus of 1170 documents with 17890 words\n",
      "2021-12-17 01:25:01,566 : INFO : PROGRESS: pass 0, at document #17170/17170\n",
      "2021-12-17 01:25:01,811 : INFO : merging changes from 1170 documents into a model of 17170 documents\n",
      "2021-12-17 01:25:01,820 : INFO : topic #0 (0.200): 0.137*\"@\" + 0.089*\"metoo\" + 0.020*\"'\" + 0.019*\",\" + 0.018*\"-\" + 0.013*\"&\" + 0.012*\"amp\" + 0.009*\"\"\" + 0.007*\"!\" + 0.007*\"women\"\n",
      "2021-12-17 01:25:01,821 : INFO : topic #1 (0.200): 0.050*\"metoo\" + 0.033*\",\" + 0.013*\"!\" + 0.013*\"-\" + 0.013*\"@\" + 0.010*\"de\" + 0.007*\"'\" + 0.004*\"essay\" + 0.004*\"make\" + 0.004*\"...\"\n",
      "2021-12-17 01:25:01,823 : INFO : topic #2 (0.200): 0.054*\"metoo\" + 0.046*\",\" + 0.025*\"'\" + 0.011*\"women\" + 0.011*\"...\" + 0.009*\"-\" + 0.009*\"\"\" + 0.009*\"timesup\" + 0.008*\"movement\" + 0.008*\"&\"\n",
      "2021-12-17 01:25:01,824 : INFO : topic #3 (0.200): 0.061*\"metoo\" + 0.050*\",\" + 0.033*\"@\" + 0.022*\"'\" + 0.019*\"!\" + 0.014*\"women\" + 0.012*\"movement\" + 0.009*\"sexual\" + 0.009*\"\"\" + 0.009*\"-\"\n",
      "2021-12-17 01:25:01,826 : INFO : topic #4 (0.200): 0.042*\"metoo\" + 0.014*\"de\" + 0.014*\",\" + 0.010*\"sexual\" + 0.010*\"\"\" + 0.009*\"blog\" + 0.009*\"timesup\" + 0.008*\"lgbtq\" + 0.008*\"mentalhealth\" + 0.007*\"boundaries\"\n",
      "2021-12-17 01:25:01,827 : INFO : topic diff=0.399405, rho=0.333333\n",
      "2021-12-17 01:25:01,828 : INFO : LdaModel lifecycle event {'msg': 'trained LdaModel(num_terms=37138, num_topics=5, decay=0.5, chunksize=2000) in 4.77s', 'datetime': '2021-12-17T01:25:01.828483', 'gensim': '4.1.2', 'python': '3.8.8 (default, Apr 13 2021, 12:59:45) \\n[Clang 10.0.0 ]', 'platform': 'macOS-10.16-x86_64-i386-64bit', 'event': 'created'}\n"
     ]
    }
   ],
   "source": [
    "lda = models.LdaModel(corpus, id2word=dictionary, num_topics=total_topics)\n",
    "corpus_lda = lda[corpus_tfidf] # create a double wrapper over the original corpus: bow->tfidf->fold-in-lsi"
   ]
  },
  {
   "cell_type": "code",
   "execution_count": 582,
   "id": "cc7a8c9a",
   "metadata": {},
   "outputs": [],
   "source": [
    "data_lda = {i: OrderedDict(lda.show_topic(i,25)) for i in range(total_topics)}"
   ]
  },
  {
   "cell_type": "code",
   "execution_count": 583,
   "id": "845e161f",
   "metadata": {},
   "outputs": [
    {
     "name": "stdout",
     "output_type": "stream",
     "text": [
      "(5, 76)\n"
     ]
    }
   ],
   "source": [
    "df_lda = pd.DataFrame(data_lda)\n",
    "df_lda = df_lda.fillna(0).T\n",
    "print(df_lda.shape)"
   ]
  },
  {
   "cell_type": "code",
   "execution_count": 585,
   "id": "c4aeb874",
   "metadata": {},
   "outputs": [
    {
     "data": {
      "image/png": "[encoded data removed]",
      "text/plain": [
       "<Figure size 1080x1080 with 4 Axes>"
      ]
     },
     "metadata": {
      "needs_background": "light"
     },
     "output_type": "display_data"
    }
   ],
   "source": [
    "g=sns.clustermap(df_lda.corr(), center=0, standard_scale=1, cmap=\"RdBu\", metric='cosine', linewidths=.75, figsize=(15, 15))\n",
    "plt.setp(g.ax_heatmap.yaxis.get_majorticklabels(), rotation=0)\n",
    "plt.show()"
   ]
  }
 ],
 "metadata": {
  "kernelspec": {
   "display_name": "Python 3",
   "language": "python",
   "name": "python3"
  },
  "language_info": {
   "codemirror_mode": {
    "name": "ipython",
    "version": 3
   },
   "file_extension": ".py",
   "mimetype": "text/x-python",
   "name": "python",
   "nbconvert_exporter": "python",
   "pygments_lexer": "ipython3",
   "version": "3.8.8"
  }
 },
 "nbformat": 4,
 "nbformat_minor": 5
}
